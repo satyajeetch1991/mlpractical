{
 "cells": [
  {
   "cell_type": "code",
   "execution_count": null,
   "id": "6a5f7356",
   "metadata": {
    "vscode": {
     "languageId": "plaintext"
    }
   },
   "outputs": [],
   "source": [
    "# Import required libraries\n",
    "import pandas as pd\n",
    "import numpy as np\n",
    "import matplotlib.pyplot as plt\n",
    "from sklearn.linear_model import LinearRegression\n",
    "from sklearn.metrics import mean_squared_error, r2_score\n",
    "\n",
    "# Load the dataset\n",
    "df = pd.read_csv('water_data.csv')  # Replace with actual file name\n",
    "\n",
    "# Display the first few rows\n",
    "print(\"Dataset Preview:\")\n",
    "print(df.head())\n",
    "\n",
    "# Define independent and dependent variables\n",
    "X = df[['salinity']]        # Predictor\n",
    "y = df['temperature']       # Target\n",
    "\n",
    "# Visualize the data\n",
    "plt.scatter(X, y, color='blue')\n",
    "plt.title('Salinity vs Temperature')\n",
    "plt.xlabel('Salinity (ppt)')\n",
    "plt.ylabel('Water Temperature (°C)')\n",
    "plt.grid(True)\n",
    "plt.show()\n",
    "\n",
    "# Build and train the model\n",
    "model = LinearRegression()\n",
    "model.fit(X, y)\n",
    "\n",
    "# Predict temperature using the model\n",
    "y_pred = model.predict(X)\n",
    "\n",
    "# Plot the regression line\n",
    "plt.scatter(X, y, color='blue')\n",
    "plt.plot(X, y_pred, color='red', linewidth=2)\n",
    "plt.title('Linear Regression: Salinity vs Temperature')\n",
    "plt.xlabel('Salinity (ppt)')\n",
    "plt.ylabel('Water Temperature (°C)')\n",
    "plt.grid(True)\n",
    "plt.show()\n",
    "\n",
    "# Output model parameters\n",
    "print(f\"Intercept (b): {model.intercept_}\")\n",
    "print(f\"Coefficient (m): {model.coef_[0]}\")\n",
    "\n",
    "# Evaluate model performance\n",
    "mse = mean_squared_error(y, y_pred)\n",
    "r2 = r2_score(y, y_pred)\n",
    "print(f\"\\nMean Squared Error (MSE): {mse}\")\n",
    "print(f\"R-squared (R² Score): {r2}\")\n",
    "\n",
    "# Predict temperature for new salinity value\n",
    "new_salinity = pd.DataFrame({'salinity': [36.0]})\n",
    "predicted_temp = model.predict(new_salinity)[0]\n",
    "print(f\"\\nPredicted Temperature for salinity 36.0 ppt: {predicted_temp:.2f} °C\")\n"
   ]
  }
 ],
 "metadata": {
  "language_info": {
   "name": "python"
  }
 },
 "nbformat": 4,
 "nbformat_minor": 5
}
