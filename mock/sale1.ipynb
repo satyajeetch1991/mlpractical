{
 "cells": [
  {
   "cell_type": "code",
   "execution_count": null,
   "id": "28e32745",
   "metadata": {
    "vscode": {
     "languageId": "plaintext"
    }
   },
   "outputs": [],
   "source": [
    "# Import necessary libraries\n",
    "import pandas as pd\n",
    "import numpy as np\n",
    "import matplotlib.pyplot as plt\n",
    "from sklearn.linear_model import LinearRegression\n",
    "from sklearn.metrics import mean_squared_error\n",
    "\n",
    "# Load the dataset\n",
    "df = pd.read_csv('advertising.csv')\n",
    "\n",
    "# Display the first few rows\n",
    "print(df.head())\n",
    "\n",
    "# Select only the TV and Sales columns\n",
    "X = df[['TV']]     # Independent variable\n",
    "y = df['Sales']    # Dependent variable\n",
    "\n",
    "# Visualize the data\n",
    "plt.scatter(X, y, color='green')\n",
    "plt.title('TV Advertising vs Sales')\n",
    "plt.xlabel('TV Advertising Budget (in $1000s)')\n",
    "plt.ylabel('Sales (in $1000s)')\n",
    "plt.grid(True)\n",
    "plt.show()\n",
    "\n",
    "# Create and train the linear regression model\n",
    "model = LinearRegression()\n",
    "model.fit(X, y)\n",
    "\n",
    "# Predict using the model\n",
    "y_pred = model.predict(X)\n",
    "\n",
    "# Plot the regression line\n",
    "plt.scatter(X, y, color='green')\n",
    "plt.plot(X, y_pred, color='red', linewidth=2)\n",
    "plt.title('Regression Line: TV Advertising vs Sales')\n",
    "plt.xlabel('TV Advertising Budget (in $1000s)')\n",
    "plt.ylabel('Sales (in $1000s)')\n",
    "plt.grid(True)\n",
    "plt.show()\n",
    "\n",
    "# Print the model parameters\n",
    "print(f\"Intercept (b): {model.intercept_}\")\n",
    "print(f\"Coefficient (m): {model.coef_[0]}\")\n",
    "\n",
    "# Calculate and print Mean Squared Error (Cost Function)\n",
    "mse = mean_squared_error(y, y_pred)\n",
    "print(f\"Mean Squared Error (Cost Function J): {mse}\")\n"
   ]
  },
  {
   "cell_type": "code",
   "execution_count": null,
   "id": "e1405da7",
   "metadata": {
    "vscode": {
     "languageId": "plaintext"
    }
   },
   "outputs": [],
   "source": []
  }
 ],
 "metadata": {
  "language_info": {
   "name": "python"
  }
 },
 "nbformat": 4,
 "nbformat_minor": 5
}
