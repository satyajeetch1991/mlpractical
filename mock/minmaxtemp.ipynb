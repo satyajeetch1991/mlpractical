{
 "cells": [
  {
   "cell_type": "code",
   "execution_count": null,
   "id": "526aef99",
   "metadata": {
    "vscode": {
     "languageId": "plaintext"
    }
   },
   "outputs": [],
   "source": [
    "# Import libraries\n",
    "import pandas as pd\n",
    "import matplotlib.pyplot as plt\n",
    "from sklearn.linear_model import LinearRegression\n",
    "from sklearn.metrics import mean_squared_error, r2_score\n",
    "\n",
    "# Load dataset\n",
    "df = pd.read_csv('Summary of Weather.csv')\n",
    "\n",
    "# Preview data\n",
    "print(\"Dataset Preview:\")\n",
    "print(df[['MinTemp', 'MaxTemp']].head())\n",
    "\n",
    "# Drop missing values if any\n",
    "df = df[['MinTemp', 'MaxTemp']].dropna()\n",
    "\n",
    "# Scatter plot to visualize relationship\n",
    "plt.scatter(df['MinTemp'], df['MaxTemp'], alpha=0.4, color='blue')\n",
    "plt.title('Min Temp vs Max Temp')\n",
    "plt.xlabel('Minimum Temperature (°C)')\n",
    "plt.ylabel('Maximum Temperature (°C)')\n",
    "plt.grid(True)\n",
    "plt.show()\n",
    "\n",
    "# Prepare data for model\n",
    "X = df[['MinTemp']]  # independent variable\n",
    "y = df['MaxTemp']    # dependent variable\n",
    "\n",
    "# Train linear regression model\n",
    "model = LinearRegression()\n",
    "model.fit(X, y)\n",
    "\n",
    "# Predict max temperatures\n",
    "y_pred = model.predict(X)\n",
    "\n",
    "# Plot regression line\n",
    "plt.scatter(X, y, alpha=0.4, label=\"Actual\")\n",
    "plt.plot(X, y_pred, color='red', label=\"Regression Line\")\n",
    "plt.title('Linear Regression: Min Temp vs Max Temp')\n",
    "plt.xlabel('Minimum Temperature (°C)')\n",
    "plt.ylabel('Maximum Temperature (°C)')\n",
    "plt.legend()\n",
    "plt.grid(True)\n",
    "plt.show()\n",
    "\n",
    "# Print model performance\n",
    "print(f\"Intercept (b): {model.intercept_}\")\n",
    "print(f\"Coefficient (m): {model.coef_[0]}\")\n",
    "print(f\"Mean Squared Error (MSE): {mean_squared_error(y, y_pred)}\")\n",
    "print(f\"R-squared (R² Score): {r2_score(y, y_pred)}\")\n",
    "\n",
    "# Predict max temperature for new input\n",
    "min_temp_input = pd.DataFrame({'MinTemp': [17.5]})\n",
    "predicted_max = model.predict(min_temp_input)[0]\n",
    "print(f\"\\nPredicted Max Temperature for MinTemp 17.5°C: {predicted_max:.2f} °C\")\n"
   ]
  }
 ],
 "metadata": {
  "language_info": {
   "name": "python"
  }
 },
 "nbformat": 4,
 "nbformat_minor": 5
}
