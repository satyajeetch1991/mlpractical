{
 "cells": [
  {
   "cell_type": "code",
   "execution_count": null,
   "id": "b45413e9",
   "metadata": {
    "vscode": {
     "languageId": "plaintext"
    }
   },
   "outputs": [],
   "source": [
    "# Import libraries\n",
    "import pandas as pd\n",
    "import numpy as np\n",
    "import matplotlib.pyplot as plt\n",
    "from sklearn.linear_model import LinearRegression\n",
    "from sklearn.metrics import mean_squared_error\n",
    "\n",
    "# Load dataset\n",
    "df = pd.read_csv('Salary_dataset.csv')\n",
    "\n",
    "# Display first few rows\n",
    "print(df.head())\n",
    "\n",
    "# Split variables\n",
    "X = df[['YearsExperience']]  # Independent variable\n",
    "y = df['Salary']             # Dependent variable\n",
    "\n",
    "# Visualize the data\n",
    "plt.scatter(X, y, color='blue')\n",
    "plt.title('Salary vs Experience')\n",
    "plt.xlabel('Years of Experience')\n",
    "plt.ylabel('Salary')\n",
    "plt.grid(True)\n",
    "plt.show()\n",
    "\n",
    "# Train Linear Regression model\n",
    "model = LinearRegression()\n",
    "model.fit(X, y)\n",
    "\n",
    "# Get predictions\n",
    "y_pred = model.predict(X)\n",
    "\n",
    "# Plot regression line\n",
    "plt.scatter(X, y, color='blue')\n",
    "plt.plot(X, y_pred, color='red', linewidth=2)\n",
    "plt.title('Regression Line: Salary vs Experience')\n",
    "plt.xlabel('Years of Experience')\n",
    "plt.ylabel('Salary')\n",
    "plt.grid(True)\n",
    "plt.show()\n",
    "\n",
    "# Print coefficients (optimal values)\n",
    "print(f\"Intercept (b): {model.intercept_}\")\n",
    "print(f\"Coefficient (m): {model.coef_[0]}\")\n",
    "\n",
    "# Calculate and print cost (Mean Squared Error)\n",
    "mse = mean_squared_error(y, y_pred)\n",
    "print(f\"Mean Squared Error (Cost Function J): {mse}\")\n"
   ]
  }
 ],
 "metadata": {
  "language_info": {
   "name": "python"
  }
 },
 "nbformat": 4,
 "nbformat_minor": 5
}
